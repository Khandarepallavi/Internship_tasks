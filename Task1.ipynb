{
 "cells": [
  {
   "cell_type": "code",
   "execution_count": 5,
   "id": "13cfc9ed-6443-41db-a5b1-34c9a38ee5c6",
   "metadata": {},
   "outputs": [
    {
     "name": "stdout",
     "output_type": "stream",
     "text": [
      "Initial data info:\n",
      "<class 'pandas.core.frame.DataFrame'>\n",
      "RangeIndex: 6 entries, 0 to 5\n",
      "Data columns (total 1 columns):\n",
      " #   Column                                              Non-Null Count  Dtype \n",
      "---  ------                                              --------------  ----- \n",
      " 0   Customer ID, Name, Gender, Age, Country, Join Date  6 non-null      object\n",
      "dtypes: object(1)\n",
      "memory usage: 180.0+ bytes\n",
      "None\n",
      "\n",
      "First few rows:\n",
      "  Customer ID, Name, Gender, Age, Country, Join Date\n",
      "0     101, Alice Smith, Female , 28, USA, 12/01/2022\n",
      "1  102, John Doe, MALE, 34, United States, 01-02-...\n",
      "2           103, Mary Jane, female, , UK, 03/15/2022\n",
      "3  104, Mike Ross, Male, 45, united kingdom, 15-0...\n",
      "4     105, Alice Smith, Female , 28, USA, 12/01/2022\n",
      "\n",
      "Missing values per column:\n",
      "Customer ID, Name, Gender, Age, Country, Join Date    0\n",
      "dtype: int64\n"
     ]
    }
   ],
   "source": [
    "import pandas as pd\n",
    "\n",
    "\n",
    "df = pd.read_csv(\"Customer_details.csv\")\n",
    "\n",
    "\n",
    "print(\"Initial data info:\")\n",
    "print(df.info())\n",
    "print(\"\\nFirst few rows:\")\n",
    "print(df.head())\n",
    "\n",
    "# Step 1: Handle missing values\n",
    "print(\"\\nMissing values per column:\")\n",
    "print(df.isnull().sum())\n",
    "\n",
    "df = df.dropna()\n",
    "\n",
    "# Step 2: Remove duplicate rows\n",
    "df = df.drop_duplicates()\n",
    "\n",
    "# Step 3: Standardize text data\n",
    "if 'gender' in df.columns:\n",
    "    df['gender'] = df['gender'].str.strip().str.title()\n",
    "\n",
    "# Step 4: Standardize date formats\n",
    "for col in df.columns:\n",
    "    if \"date\" in col:\n",
    "        df[col] = pd.to_datetime(df[col], errors='coerce', dayfirst=True)\n",
    "\n",
    "# Step 5: Clean column names\n",
    "df.columns = df.columns.str.strip().str.lower().str.replace(' ', '_')\n",
    "\n",
    "# Step 6: Ensure correct data types\n",
    "if 'age' in df.columns:\n",
    "    df['age'] = df['age'].astype(int)\n",
    "\n",
    "# Step 7: Export cleaned dataset\n",
    "df.to_csv(\"Customer_details_cleaned.csv\", index=False)\n"
   ]
  },
  {
   "cell_type": "code",
   "execution_count": null,
   "id": "f465e1ef-65f3-40e5-95ba-0bd77acebd17",
   "metadata": {},
   "outputs": [],
   "source": []
  }
 ],
 "metadata": {
  "kernelspec": {
   "display_name": "Python 3 (ipykernel)",
   "language": "python",
   "name": "python3"
  },
  "language_info": {
   "codemirror_mode": {
    "name": "ipython",
    "version": 3
   },
   "file_extension": ".py",
   "mimetype": "text/x-python",
   "name": "python",
   "nbconvert_exporter": "python",
   "pygments_lexer": "ipython3",
   "version": "3.12.4"
  }
 },
 "nbformat": 4,
 "nbformat_minor": 5
}
